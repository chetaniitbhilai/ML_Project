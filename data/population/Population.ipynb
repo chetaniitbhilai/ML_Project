{
  "nbformat": 4,
  "nbformat_minor": 0,
  "metadata": {
    "colab": {
      "provenance": []
    },
    "kernelspec": {
      "name": "python3",
      "display_name": "Python 3"
    },
    "language_info": {
      "name": "python"
    }
  },
  "cells": [
    {
      "cell_type": "code",
      "source": [
        "import pandas as pd\n",
        "from sklearn.preprocessing import MinMaxScaler\n",
        "\n",
        "# Load the dataset (replace 'your_data.csv' with your actual file path)\n",
        "data = pd.read_csv('/content/final_combined_amenities.csv')\n",
        "\n",
        "# Display the first few rows to verify the data structure\n",
        "print(data.head())\n",
        "\n",
        "# Scale the 'suburb' column to a range of 0 to 10\n",
        "scaler = MinMaxScaler(feature_range=(0, 10))\n",
        "data['scaled_suburb'] = scaler.fit_transform(data[['suburb_count']])\n",
        "\n",
        "# Calculate the 'population' using the given formula\n",
        "data['population'] = (1000 * data['road_count'] + data['scaled_suburb'] + data['district_count']).astype(int)\n",
        "\n",
        "# Display the updated DataFrame with the new column\n",
        "print(data[['road_count', 'suburb_count', 'scaled_suburb', 'district_count', 'population']].head())\n",
        "\n",
        "# Optionally, save the updated DataFrame to a new CSV file\n",
        "data.to_csv('updated_data.csv', index=False)\n"
      ],
      "metadata": {
        "colab": {
          "base_uri": "https://localhost:8080/"
        },
        "id": "nyYtUgkEaHQX",
        "outputId": "09be0026-6edd-45e2-f558-bf54f261fab7"
      },
      "execution_count": null,
      "outputs": [
        {
          "output_type": "stream",
          "name": "stdout",
          "text": [
            "  Amenity Type               Name   Latitude  Longitude  \\\n",
            "0          bar         mohini bar  28.633277  77.223876   \n",
            "1          bar        The Gem Bar  28.641502  77.216079   \n",
            "2          bar  OMG Bar & Kitchen  28.631405  77.220446   \n",
            "3          bar           My Love   28.638413  77.210406   \n",
            "4          bar          Sam's bar  28.641130  77.212683   \n",
            "\n",
            "                                road                suburb state_district  \\\n",
            "0                     Connaught Lane  Chanakya Puri Tehsil            NaN   \n",
            "1                    Main Bazar Road             Paharganj  Central Delhi   \n",
            "2                        Rajiv Chowk       Connaught Place            NaN   \n",
            "3                    Panchkuian Road     Karol Bagh Tehsil  Central Delhi   \n",
            "4  Arya Nagar Road;Sang Trashan Marg     Karol Bagh Tehsil  Central Delhi   \n",
            "\n",
            "   road_count  suburb_count  district_count  \n",
            "0          10           199               0  \n",
            "1          24            38             318  \n",
            "2          41           278               0  \n",
            "3          16            82             318  \n",
            "4           5            82             318  \n",
            "   road_count  suburb_count  scaled_suburb  district_count  population\n",
            "0          10           199       7.158273               0       10007\n",
            "1          24            38       1.366906             318       24319\n",
            "2          41           278      10.000000               0       41010\n",
            "3          16            82       2.949640             318       16320\n",
            "4           5            82       2.949640             318        5320\n"
          ]
        }
      ]
    },
    {
      "cell_type": "code",
      "source": [],
      "metadata": {
        "id": "TaeZ1YDCbEdc"
      },
      "execution_count": null,
      "outputs": []
    }
  ]
}