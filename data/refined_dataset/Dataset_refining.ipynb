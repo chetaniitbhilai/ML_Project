{
  "nbformat": 4,
  "nbformat_minor": 0,
  "metadata": {
    "colab": {
      "provenance": []
    },
    "kernelspec": {
      "name": "python3",
      "display_name": "Python 3"
    },
    "language_info": {
      "name": "python"
    }
  },
  "cells": [
    {
      "cell_type": "code",
      "execution_count": 2,
      "metadata": {
        "colab": {
          "base_uri": "https://localhost:8080/"
        },
        "id": "CWtchP7nI3Li",
        "outputId": "1a6c0af9-c483-4e59-db43-e1ff55187118"
      },
      "outputs": [
        {
          "output_type": "stream",
          "name": "stdout",
          "text": [
            "Entries with 'Unknown' names have been removed from 'amenities_varanasi.csv'.\n"
          ]
        }
      ],
      "source": [
        "import csv\n",
        "\n",
        "def filter_unknown_names(filename):\n",
        "    # Create a temporary list to store rows that have a valid name\n",
        "    filtered_rows = []\n",
        "\n",
        "    # Read data from the existing CSV file\n",
        "    with open(filename, 'r') as csvfile:\n",
        "        reader = csv.reader(csvfile)\n",
        "        header = next(reader)  # Read the header\n",
        "        for row in reader:\n",
        "            # Check if the 'Name' field is not \"Unknown\"\n",
        "            if row[1] != \"Unknown\":\n",
        "                filtered_rows.append(row)\n",
        "\n",
        "    # Write the filtered data back to the same CSV file\n",
        "    newfilename=filename.split('.')[0]+'_filtered.csv'\n",
        "    with open(newfilename, 'w', newline='') as csvfile:\n",
        "        writer = csv.writer(csvfile)\n",
        "        writer.writerow(header)  # Write the header again\n",
        "        writer.writerows(filtered_rows)  # Write the filtered rows\n",
        "\n",
        "    print(f\"Entries with 'Unknown' names have been removed from '{filename}'.\")\n",
        "\n",
        "# Call the function with the path to your CSV file\n",
        "filter_unknown_names('amenities_varanasi.csv')\n"
      ]
    },
    {
      "cell_type": "code",
      "source": [
        "import csv\n",
        "\n",
        "def filter_unknown_names(filename):\n",
        "    # Create a temporary list to store rows that have a valid name\n",
        "    filtered_rows = []\n",
        "\n",
        "    # Read data from the existing CSV file\n",
        "    with open(filename, 'r') as csvfile:\n",
        "        reader = csv.reader(csvfile)\n",
        "        header = next(reader)  # Read the header\n",
        "        for row in reader:\n",
        "            # Check if the 'Name' field is not \"Unknown\"\n",
        "            if row[1] != \"Unknown\":\n",
        "                filtered_rows.append(row)\n",
        "\n",
        "    # Write the filtered data back to the same CSV file\n",
        "    newfilename=filename.split('.')[0]+'_filtered.csv'\n",
        "    with open(newfilename, 'w', newline='') as csvfile:\n",
        "        writer = csv.writer(csvfile)\n",
        "        writer.writerow(header)  # Write the header again\n",
        "        writer.writerows(filtered_rows)  # Write the filtered rows\n",
        "\n",
        "    print(f\"Entries with 'Unknown' names have been removed from '{filename}'.\")\n",
        "\n",
        "# Call the function with the path to your CSV file\n",
        "filter_unknown_names('amenities_jaunpur.csv')\n"
      ],
      "metadata": {
        "colab": {
          "base_uri": "https://localhost:8080/"
        },
        "id": "X4M2mITKJYxe",
        "outputId": "69d9d94f-6284-4492-8542-4b7ecc4891a0"
      },
      "execution_count": 3,
      "outputs": [
        {
          "output_type": "stream",
          "name": "stdout",
          "text": [
            "Entries with 'Unknown' names have been removed from 'amenities_jaunpur.csv'.\n"
          ]
        }
      ]
    },
    {
      "cell_type": "code",
      "source": [
        "import csv\n",
        "\n",
        "def filter_unknown_names(filename):\n",
        "    # Create a temporary list to store rows that have a valid name\n",
        "    filtered_rows = []\n",
        "\n",
        "    # Read data from the existing CSV file\n",
        "    with open(filename, 'r') as csvfile:\n",
        "        reader = csv.reader(csvfile)\n",
        "        header = next(reader)  # Read the header\n",
        "        for row in reader:\n",
        "            # Check if the 'Name' field is not \"Unknown\"\n",
        "            if row[1] != \"Unknown\":\n",
        "                filtered_rows.append(row)\n",
        "\n",
        "    # Write the filtered data back to the same CSV file\n",
        "    newfilename=filename.split('.')[0]+'_filtered.csv'\n",
        "    with open(newfilename, 'w', newline='') as csvfile:\n",
        "        writer = csv.writer(csvfile)\n",
        "        writer.writerow(header)  # Write the header again\n",
        "        writer.writerows(filtered_rows)  # Write the filtered rows\n",
        "\n",
        "    print(f\"Entries with 'Unknown' names have been removed from '{filename}'.\")\n",
        "\n",
        "# Call the function with the path to your CSV file\n",
        "filter_unknown_names('amenities_prayagraj.csv')\n"
      ],
      "metadata": {
        "colab": {
          "base_uri": "https://localhost:8080/"
        },
        "id": "ySMLQdcNJoFk",
        "outputId": "16813cfa-2021-4205-acd3-3f4d15543929"
      },
      "execution_count": 4,
      "outputs": [
        {
          "output_type": "stream",
          "name": "stdout",
          "text": [
            "Entries with 'Unknown' names have been removed from 'amenities_prayagraj.csv'.\n"
          ]
        }
      ]
    },
    {
      "cell_type": "code",
      "source": [],
      "metadata": {
        "id": "QN5k6ystJsIT"
      },
      "execution_count": null,
      "outputs": []
    }
  ]
}