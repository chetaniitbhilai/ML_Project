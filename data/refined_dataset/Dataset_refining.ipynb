{
 "cells": [
  {
   "cell_type": "code",
   "execution_count": 2,
   "metadata": {
    "colab": {
     "base_uri": "https://localhost:8080/"
    },
    "id": "CWtchP7nI3Li",
    "outputId": "1a6c0af9-c483-4e59-db43-e1ff55187118"
   },
   "outputs": [
    {
     "name": "stdout",
     "output_type": "stream",
     "text": [
      "Entries with 'Unknown' names have been removed from 'amenities_varanasi.csv'.\n"
     ]
    }
   ],
   "source": [
    "import csv\n",
    "\n",
    "def filter_unknown_names(filename):\n",
    "    # Create a temporary list to store rows that have a valid name\n",
    "    filtered_rows = []\n",
    "\n",
    "    # Read data from the existing CSV file\n",
    "    with open(filename, 'r') as csvfile:\n",
    "        reader = csv.reader(csvfile)\n",
    "        header = next(reader)  # Read the header\n",
    "        for row in reader:\n",
    "            # Check if the 'Name' field is not \"Unknown\"\n",
    "            if row[1] != \"Unknown\":\n",
    "                filtered_rows.append(row)\n",
    "\n",
    "    # Write the filtered data back to the same CSV file\n",
    "    newfilename=filename.split('.')[0]+'_filtered.csv'\n",
    "    with open(newfilename, 'w', newline='') as csvfile:\n",
    "        writer = csv.writer(csvfile)\n",
    "        writer.writerow(header)  # Write the header again\n",
    "        writer.writerows(filtered_rows)  # Write the filtered rows\n",
    "\n",
    "    print(f\"Entries with 'Unknown' names have been removed from '{filename}'.\")\n",
    "\n",
    "# Call the function with the path to your CSV file\n",
    "filter_unknown_names('amenities_varanasi.csv')\n"
   ]
  },
  {
   "cell_type": "code",
   "execution_count": 3,
   "metadata": {
    "colab": {
     "base_uri": "https://localhost:8080/"
    },
    "id": "X4M2mITKJYxe",
    "outputId": "69d9d94f-6284-4492-8542-4b7ecc4891a0"
   },
   "outputs": [
    {
     "name": "stdout",
     "output_type": "stream",
     "text": [
      "Entries with 'Unknown' names have been removed from 'amenities_jaunpur.csv'.\n"
     ]
    }
   ],
   "source": [
    "import csv\n",
    "\n",
    "def filter_unknown_names(filename):\n",
    "    # Create a temporary list to store rows that have a valid name\n",
    "    filtered_rows = []\n",
    "\n",
    "    # Read data from the existing CSV file\n",
    "    with open(filename, 'r') as csvfile:\n",
    "        reader = csv.reader(csvfile)\n",
    "        header = next(reader)  # Read the header\n",
    "        for row in reader:\n",
    "            # Check if the 'Name' field is not \"Unknown\"\n",
    "            if row[1] != \"Unknown\":\n",
    "                filtered_rows.append(row)\n",
    "\n",
    "    # Write the filtered data back to the same CSV file\n",
    "    newfilename=filename.split('.')[0]+'_filtered.csv'\n",
    "    with open(newfilename, 'w', newline='') as csvfile:\n",
    "        writer = csv.writer(csvfile)\n",
    "        writer.writerow(header)  # Write the header again\n",
    "        writer.writerows(filtered_rows)  # Write the filtered rows\n",
    "\n",
    "    print(f\"Entries with 'Unknown' names have been removed from '{filename}'.\")\n",
    "\n",
    "# Call the function with the path to your CSV file\n",
    "filter_unknown_names('amenities_jaunpur.csv')\n"
   ]
  },
  {
   "cell_type": "code",
   "execution_count": 4,
   "metadata": {
    "colab": {
     "base_uri": "https://localhost:8080/"
    },
    "id": "ySMLQdcNJoFk",
    "outputId": "16813cfa-2021-4205-acd3-3f4d15543929"
   },
   "outputs": [
    {
     "name": "stdout",
     "output_type": "stream",
     "text": [
      "Entries with 'Unknown' names have been removed from 'amenities_prayagraj.csv'.\n"
     ]
    }
   ],
   "source": [
    "import csv\n",
    "\n",
    "def filter_unknown_names(filename):\n",
    "    # Create a temporary list to store rows that have a valid name\n",
    "    filtered_rows = []\n",
    "\n",
    "    # Read data from the existing CSV file\n",
    "    with open(filename, 'r') as csvfile:\n",
    "        reader = csv.reader(csvfile)\n",
    "        header = next(reader)  # Read the header\n",
    "        for row in reader:\n",
    "            # Check if the 'Name' field is not \"Unknown\"\n",
    "            if row[1] != \"Unknown\":\n",
    "                filtered_rows.append(row)\n",
    "\n",
    "    # Write the filtered data back to the same CSV file\n",
    "    newfilename=filename.split('.')[0]+'_filtered.csv'\n",
    "    with open(newfilename, 'w', newline='') as csvfile:\n",
    "        writer = csv.writer(csvfile)\n",
    "        writer.writerow(header)  # Write the header again\n",
    "        writer.writerows(filtered_rows)  # Write the filtered rows\n",
    "\n",
    "    print(f\"Entries with 'Unknown' names have been removed from '{filename}'.\")\n",
    "\n",
    "# Call the function with the path to your CSV file\n",
    "filter_unknown_names('amenities_prayagraj.csv')\n"
   ]
  },
  {
   "cell_type": "code",
   "execution_count": null,
   "metadata": {
    "id": "QN5k6ystJsIT"
   },
   "outputs": [],
   "source": [
    "#adding code for removing the duplicated rows from the dataset\n",
    "import pandas as pd\n",
    "\n",
    "def remove_duplicates_and_print(csv_filename):\n",
    "    # Read the CSV file into a pandas DataFrame\n",
    "    df = pd.read_csv(csv_filename)\n",
    "\n",
    "    # Identify and store duplicate rows\n",
    "    duplicates = df[df.duplicated()]\n",
    "\n",
    "    # Print the duplicate rows that will be removed\n",
    "    if not duplicates.empty:\n",
    "        print(\"The following duplicate rows were removed:\")\n",
    "        print(duplicates)\n",
    "    else:\n",
    "        print(\"No duplicate rows found.\")\n",
    "\n",
    "    # Remove duplicate rows\n",
    "    df_cleaned = df.drop_duplicates()\n",
    "\n",
    "    # Save the cleaned DataFrame to a new CSV file\n",
    "    cleaned_filename = \"cleaned_\" + csv_filename\n",
    "    df_cleaned.to_csv(cleaned_filename, index=False)\n",
    "\n",
    "    # Return the cleaned DataFrame\n",
    "    return df_cleaned\n",
    "\n",
    "# Example usage:\n",
    "# cleaned_df = remove_duplicates_and_print(\"input_file.csv\")\n"
   ]
  }
 ],
 "metadata": {
  "colab": {
   "provenance": []
  },
  "kernelspec": {
   "display_name": "Python 3",
   "name": "python3"
  },
  "language_info": {
   "name": "python"
  }
 },
 "nbformat": 4,
 "nbformat_minor": 0
}
